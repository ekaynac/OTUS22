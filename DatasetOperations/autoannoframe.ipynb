{
 "cells": [
  {
   "cell_type": "code",
   "execution_count": 2,
   "metadata": {},
   "outputs": [],
   "source": [
    "import cv2\n",
    "import torch\n",
    "import numpy as np\n",
    "import os"
   ]
  },
  {
   "cell_type": "code",
   "execution_count": 3,
   "metadata": {},
   "outputs": [],
   "source": [
    "def autoanno(PATH= \"F:/SabitKanatVideolar/piss/\"):\n",
    "    corruptedlist =[]\n",
    "    def annoFrame(PATH, imgpath):\n",
    "        INFERENCESIZE = 640\n",
    "        with open(PATH+\"annotations/\"+imgpath[:-4]+\".txt\", 'w') as f:\n",
    "            try:\n",
    "                img = cv2.imread(os.path.join(PATH, imgpath))\n",
    "                img = cv2.resize(img, (INFERENCESIZE,INFERENCESIZE))\n",
    "                results = model(img).pandas().xywh\n",
    "            except:\n",
    "                corruptedlist.append(os.path.join(PATH, imgpath))\n",
    "            try:\n",
    "                flag = 0\n",
    "                f.write(\"{} {:.6f} {:.6f} {:.6f} {:.6f}\".format(np.array(results[0])[0][5],                                                                    # class\n",
    "                                                                np.array(results[0])[0][0]/INFERENCESIZE,np.array(results[0])[0][1]/INFERENCESIZE,             # xmin  ymin\n",
    "                                                                np.array(results[0])[0][2]/INFERENCESIZE,np.array(results[0])[0][3]/INFERENCESIZE))            # width height \n",
    "            except:\n",
    "                flag = 1\n",
    "        if flag == 1:\n",
    "            os.remove(PATH+\"annotations/\"+imgpath[:-4]+\".txt\") \n",
    "            flag = 0\n",
    "    \n",
    "    # Model weight path\n",
    "    MODELPATH = r'D:\\Github\\OTUS22\\Weights\\UAVweights300\\best.onnx'\n",
    "\n",
    "    # Model\n",
    "    model = torch.hub.load('ultralytics/yolov5', 'custom',path=MODELPATH)  # or yolov5n - yolov5x6, custom\n",
    "    model.conf = 0.2\n",
    "    model.max_det = 1\n",
    "    # For performance videopath and savepath better be in same drive \n",
    "    for imgpath in os.listdir(PATH):\n",
    "        if imgpath != \"annotations\":\n",
    "            annoFrame(PATH, imgpath)\n",
    "    return corruptedlist"
   ]
  },
  {
   "cell_type": "code",
   "execution_count": 4,
   "metadata": {},
   "outputs": [
    {
     "name": "stderr",
     "output_type": "stream",
     "text": [
      "Using cache found in C:\\Users\\enes_/.cache\\torch\\hub\\ultralytics_yolov5_master\n",
      "YOLOv5  2022-12-14 Python-3.10.4 torch-1.12.1 CUDA:0 (NVIDIA GeForce GTX 1060 6GB, 6144MiB)\n",
      "\n",
      "Loading D:\\Github\\OTUS22\\Weights\\UAVweights300\\best.onnx for ONNX Runtime inference...\n",
      "Adding AutoShape... \n"
     ]
    }
   ],
   "source": [
    "corruptedlist = autoanno()"
   ]
  },
  {
   "cell_type": "code",
   "execution_count": 5,
   "metadata": {},
   "outputs": [
    {
     "data": {
      "text/plain": [
       "['F:/SabitKanatVideolar/piss/frame465-RANGER2400.jpg',\n",
       " 'F:/SabitKanatVideolar/piss/frame87-RANGER2400.jpg']"
      ]
     },
     "execution_count": 5,
     "metadata": {},
     "output_type": "execute_result"
    }
   ],
   "source": [
    "corruptedlist"
   ]
  },
  {
   "cell_type": "code",
   "execution_count": null,
   "metadata": {},
   "outputs": [],
   "source": []
  }
 ],
 "metadata": {
  "kernelspec": {
   "display_name": "cv",
   "language": "python",
   "name": "python3"
  },
  "language_info": {
   "codemirror_mode": {
    "name": "ipython",
    "version": 3
   },
   "file_extension": ".py",
   "mimetype": "text/x-python",
   "name": "python",
   "nbconvert_exporter": "python",
   "pygments_lexer": "ipython3",
   "version": "3.10.4 | packaged by conda-forge | (main, Mar 30 2022, 08:38:02) [MSC v.1916 64 bit (AMD64)]"
  },
  "orig_nbformat": 4,
  "vscode": {
   "interpreter": {
    "hash": "c25497626eb387c829d69d77d2a11d4b3d4e6b3e3b316f5a1837374208b5d84c"
   }
  }
 },
 "nbformat": 4,
 "nbformat_minor": 2
}
