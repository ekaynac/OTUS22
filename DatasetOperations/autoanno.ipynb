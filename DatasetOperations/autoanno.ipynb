{
 "cells": [
  {
   "cell_type": "code",
   "execution_count": 11,
   "metadata": {},
   "outputs": [
    {
     "name": "stderr",
     "output_type": "stream",
     "text": [
      "Using cache found in C:\\Users\\enes_/.cache\\torch\\hub\\ultralytics_yolov5_master\n",
      "YOLOv5  2022-12-14 Python-3.10.4 torch-1.12.1 CUDA:0 (NVIDIA GeForce GTX 1060 6GB, 6144MiB)\n",
      "\n",
      "Loading D:\\Github\\OTUS22\\Weights\\UAVweights300\\best.onnx for ONNX Runtime inference...\n",
      "Adding AutoShape... \n"
     ]
    }
   ],
   "source": [
    "import cv2\n",
    "import torch\n",
    "import numpy as np\n",
    "import os\n",
    "INFERENCESIZE = 640\n",
    "# For performance videopath and savepath better be in same drive\n",
    "vidname = \"WingchaseKVNYHISKR\"\n",
    "videopath = \"F:/SabitKanatVideolar/Labellanacakvideolar/new/\"+ vidname +\".mp4\"\n",
    "savepath  = \"F:/SabitKanatVideolar/Labellanacakvideolar/new/\"+ vidname\n",
    "frameRate = 0.3 #//it will capture image in each 0.5 second\n",
    "\n",
    "# Model weight path\n",
    "MODELPATH = r'D:\\Github\\OTUS22\\Weights\\UAVweights300\\best.onnx'\n",
    "\n",
    "# Model\n",
    "model = torch.hub.load('ultralytics/yolov5', 'custom',path=MODELPATH)  # or yolov5n - yolov5x6, custom\n",
    "model.conf = 0.3\n",
    "model.max_det = 1\n",
    "\n",
    "\n",
    "\n",
    "vidcap = cv2.VideoCapture(videopath)\n",
    "def getFrame(sec):\n",
    "    vidcap.set(cv2.CAP_PROP_POS_MSEC,sec*1000)\n",
    "    hasFrames,image = vidcap.read()\n",
    "    if hasFrames:\n",
    "        imageinf = cv2.resize(image, (INFERENCESIZE,INFERENCESIZE), interpolation=cv2.INTER_AREA)\n",
    "        cv2.imwrite(savepath+\"/\"+vidname+\"-frame%d.jpg\" % count, image)     # save frame as JPG file\n",
    "        with open(savepath+\"/annotations/\"+vidname +\"-frame%d.txt\" % count, 'w') as f:\n",
    "            results = model(imageinf).pandas().xywh\n",
    "            try:\n",
    "                flag = 0\n",
    "                f.write(\"{} {:.6f} {:.6f} {:.6f} {:.6f}\".format(np.array(results[0])[0][5],                                                                    # class\n",
    "                                                                np.array(results[0])[0][0]/INFERENCESIZE,np.array(results[0])[0][1]/INFERENCESIZE,             # xmin  ymin\n",
    "                                                                np.array(results[0])[0][2]/INFERENCESIZE,np.array(results[0])[0][3]/INFERENCESIZE))            # width height \n",
    "            except:\n",
    "                flag = 1\n",
    "        if flag == 1:\n",
    "            os.remove(savepath+\"/annotations/\"+vidname +\"-frame%d.txt\" % count) \n",
    "            flag = 0\n",
    "    return hasFrames\n",
    "sec = 0\n",
    "count=1\n",
    "success = getFrame(sec)\n",
    "while success:\n",
    "    count = count + 1\n",
    "    sec = sec + frameRate\n",
    "    sec = round(sec, 2)\n",
    "    success = getFrame(sec)"
   ]
  },
  {
   "cell_type": "code",
   "execution_count": null,
   "metadata": {},
   "outputs": [],
   "source": []
  }
 ],
 "metadata": {
  "kernelspec": {
   "display_name": "cv",
   "language": "python",
   "name": "python3"
  },
  "language_info": {
   "codemirror_mode": {
    "name": "ipython",
    "version": 3
   },
   "file_extension": ".py",
   "mimetype": "text/x-python",
   "name": "python",
   "nbconvert_exporter": "python",
   "pygments_lexer": "ipython3",
   "version": "3.10.4"
  },
  "orig_nbformat": 4,
  "vscode": {
   "interpreter": {
    "hash": "c25497626eb387c829d69d77d2a11d4b3d4e6b3e3b316f5a1837374208b5d84c"
   }
  }
 },
 "nbformat": 4,
 "nbformat_minor": 2
}
