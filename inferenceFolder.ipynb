{
 "cells": [
  {
   "cell_type": "code",
   "execution_count": null,
   "metadata": {},
   "outputs": [],
   "source": [
    "import torch\n",
    "import cv2\n",
    "import os"
   ]
  },
  {
   "cell_type": "code",
   "execution_count": null,
   "metadata": {},
   "outputs": [],
   "source": [
    "# Model\n",
    "model = torch.hub.load('ultralytics/yolov5', 'custom',path=r'D:\\Github\\OTUS22\\UAVweights300\\best.onnx')  # or yolov5n - yolov5x6, custom\n",
    "\n",
    "# Inference\n",
    "model.conf = 0.6 # NMS confidence threshold\n",
    "#model.iou = 0.45  # NMS IoU threshold\n",
    "#model.agnostic = False  # NMS class-agnostic\n",
    "#model.multi_label = False  # NMS multiple labels per box\n",
    "#model.classes = None  # (optional list) filter by class, i.e. = [0, 15, 16] for COCO persons, cats and dogs\n",
    "#model.max_det = 1000  # maximum number of detections per image\n",
    "#model.amp = False  # Automatic Mixed Precision (AMP) inference"
   ]
  },
  {
   "cell_type": "code",
   "execution_count": null,
   "metadata": {},
   "outputs": [],
   "source": [
    "def drawBox(img,bbox):\n",
    "    x,y,w,h = tuple(map(int,bbox))\n",
    "    cv2.rectangle(img,(x,y),((x+w),(y+h)),(255,0,255),3,1)\n",
    "    cv2.putText(img, \"Tracking\", (75, 20), cv2.FONT_HERSHEY_SIMPLEX, 0.7, (0, 255, 0), 2)"
   ]
  },
  {
   "cell_type": "code",
   "execution_count": null,
   "metadata": {},
   "outputs": [],
   "source": [
    "# Options for cv2.rectangle\n",
    "thickness=1\n",
    "color=(0,0,255)\n",
    "\n",
    "# Options for cv2.putText\n",
    "# font\n",
    "font = cv2.FONT_HERSHEY_SIMPLEX\n",
    "# org\n",
    "org = (50, 50)\n",
    "# font\n",
    "fontScale = 0.5"
   ]
  },
  {
   "cell_type": "code",
   "execution_count": null,
   "metadata": {},
   "outputs": [],
   "source": [
    "def createTracker(num):\n",
    "    tracker_types = ['BOOSTING', 'MIL','KCF', 'TLD', 'MEDIANFLOW', 'GOTURN', 'MOSSE', 'CSRT']\n",
    "    tracker_type = tracker_types[num]\n",
    "\n",
    "    if tracker_type == 'BOOSTING':\n",
    "        tracker = cv2.legacy.TrackerBoosting_create()\n",
    "    if tracker_type == 'MIL':\n",
    "        tracker = cv2.TrackerMIL_create() \n",
    "    if tracker_type == 'KCF':\n",
    "        tracker = cv2.TrackerKCF_create() \n",
    "    if tracker_type == 'TLD':\n",
    "        tracker = cv2.legacy.TrackerTLD_create() \n",
    "    if tracker_type == 'MEDIANFLOW':\n",
    "        tracker = cv2.legacy.TrackerMedianFlow_create() \n",
    "    if tracker_type == 'GOTURN':\n",
    "        tracker = cv2.TrackerGOTURN_create()\n",
    "    if tracker_type == 'MOSSE':\n",
    "        tracker = cv2.legacy.TrackerMOSSE_create()\n",
    "    if tracker_type == \"CSRT\":\n",
    "        tracker = cv2.TrackerCSRT_create()\n",
    "    return tracker"
   ]
  },
  {
   "cell_type": "code",
   "execution_count": null,
   "metadata": {},
   "outputs": [],
   "source": [
    "PATH = \"/Users/eneskaynakci/Github/OTUS22/GH010012_Trim/\"\n",
    "\n",
    "for i in os.listdir(PATH):\n",
    "    frame = cv2.imread(PATH + i)\n",
    "    frame = cv2.resize(frame, (640,640), interpolation = cv2.INTER_AREA)\n",
    "    \n",
    "    results = model(frame)\n",
    "    # Results\n",
    "    df = results.pandas().xyxy[0]\n",
    "    try:\n",
    "        frame = cv2.rectangle(frame, (int(df[\"xmin\"]),int(df[\"ymin\"])), (int(df[\"xmax\"]),int(df[\"ymax\"])), color, thickness)\n",
    "        frame = cv2.putText(frame, 'UAV: {}'.format(df[\"confidence\"]), (int(df[\"xmin\"]),int(df[\"ymin\"])), font, \n",
    "                   fontScale, color, thickness, cv2.LINE_AA)\n",
    "    except:\n",
    "        frame = cv2.putText(frame, 'No detection', org, font, \n",
    "                   fontScale, color, thickness, cv2.LINE_AA)\n",
    "\n",
    "    cv2.imshow(\"sex\", frame)\n",
    "\n",
    "    key = cv2.waitKey(1)\n",
    "    if key==ord('q'):\n",
    "        break\n",
    "cv2.destroyAllWindows()"
   ]
  }
 ],
 "metadata": {
  "kernelspec": {
   "display_name": "base",
   "language": "python",
   "name": "python3"
  },
  "language_info": {
   "name": "python",
   "version": "3.9.12 (main, Apr  4 2022, 05:22:27) [MSC v.1916 64 bit (AMD64)]"
  },
  "orig_nbformat": 4,
  "vscode": {
   "interpreter": {
    "hash": "af8259ad5c1c9c7a69bd6ea085234cf8fd3a6a37a71ca551828b314c4d89b0ad"
   }
  }
 },
 "nbformat": 4,
 "nbformat_minor": 2
}
